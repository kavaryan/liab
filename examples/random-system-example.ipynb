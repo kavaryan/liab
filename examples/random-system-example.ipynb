{
 "cells": [
  {
   "cell_type": "code",
   "execution_count": 116,
   "metadata": {},
   "outputs": [],
   "source": [
    "import sys\n",
    "sys.path.append('../src')\n",
    "import time\n",
    "from collections import defaultdict\n",
    "from tqdm import tqdm\n",
    "import numpy as np\n",
    "import sympy as sp\n",
    "import matplotlib.pyplot as plt\n",
    "from liab.k_leg_liab import k_leg_liab\n",
    "from liab.shapley_liab import shapley_liab\n",
    "from liab.random_system import get_rand_system, rerand_system, get_rand_float_vec, get_rand_failure\n",
    "from liab.failure import ClosedHalfSpaceFailureSet\n",
    "from IPython.display import display, clear_output\n",
    "\n",
    "SEED = 42\n",
    "%reload_ext autoreload\n",
    "%autoreload 2\n",
    "%matplotlib inline"
   ]
  },
  {
   "cell_type": "code",
   "execution_count": 21,
   "metadata": {},
   "outputs": [
    {
     "name": "stdout",
     "output_type": "stream",
     "text": [
      "System(cs=[ComponentOrEquation(I=['x_0', 'x_1'], O=x_2 (<class 'str'>), f=-25.09*x_0+90.14*x_1), ComponentOrEquation(I=['x_0'], O=x_3 (<class 'str'>), f=-25.09*x_0), ComponentOrEquation(I=['x_0', 'x_1'], O=x_4 (<class 'str'>), f=-25.09*x_0+90.14*x_1), ComponentOrEquation(I=['x_0', 'x_1', 'x_2', 'x_3', 'x_4', 'x_5', 'x_7'], O=x_8 (<class 'str'>), f=-25.09*x_0+90.14*x_1+46.40*x_2+19.73*x_3-68.80*x_4-68.80*x_5-88.38*x_7), ComponentOrEquation(I=['x_0', 'x_2', 'x_4'], O=x_9 (<class 'str'>), f=-25.09*x_0+90.14*x_2+46.40*x_4), ComponentOrEquation(I=['x_1', 'x_2'], O=x_5 (<class 'str'>), f=-25.09*x_1+90.14*x_2), ComponentOrEquation(I=['x_2', 'x_4', 'x_5'], O=x_6 (<class 'str'>), f=-25.09*x_2+90.14*x_4+46.40*x_5), ComponentOrEquation(I=['x_4', 'x_5'], O=x_7 (<class 'str'>), f=-25.09*x_4+90.14*x_5)])\n",
      "System(cs=[ComponentOrEquation(I=['x_0', 'x_1'], O=x_2 (<class 'str'>), f=-76.99*x_0+21.81*x_1), ComponentOrEquation(I=['x_0'], O=x_3 (<class 'str'>), f=-76.99*x_0), ComponentOrEquation(I=['x_0', 'x_1'], O=x_4 (<class 'str'>), f=-76.99*x_0+21.81*x_1), ComponentOrEquation(I=['x_0', 'x_1', 'x_2', 'x_3', 'x_4', 'x_5', 'x_7'], O=x_8 (<class 'str'>), f=-76.99*x_0+21.81*x_1-73.32*x_2-51.88*x_3-34.57*x_4+71.83*x_5+33.22*x_7), ComponentOrEquation(I=['x_0', 'x_2', 'x_4'], O=x_9 (<class 'str'>), f=-76.99*x_0+21.81*x_2-73.32*x_4), ComponentOrEquation(I=['x_1', 'x_2'], O=x_5 (<class 'str'>), f=-76.99*x_1+21.81*x_2), ComponentOrEquation(I=['x_2', 'x_4', 'x_5'], O=x_6 (<class 'str'>), f=-76.99*x_2+21.81*x_4-73.32*x_5), ComponentOrEquation(I=['x_4', 'x_5'], O=x_7 (<class 'str'>), f=-76.99*x_4+21.81*x_5)])\n",
      "linear linear\n"
     ]
    }
   ],
   "source": [
    "S = get_rand_system(6, 'linear', seed=SEED)\n",
    "T = rerand_system(S, seed=SEED+1)\n",
    "print(S)\n",
    "print(T)\n",
    "print(S.func_type, T.func_type)\n"
   ]
  },
  {
   "cell_type": "code",
   "execution_count": 22,
   "metadata": {},
   "outputs": [
    {
     "name": "stdout",
     "output_type": "stream",
     "text": [
      "SCM(U={'x_0', 'x_1'}, V={'x_9', 'x_6', 'x_4', 'x_3', 'x_5', 'x_7', 'x_8', 'x_2'}, cs={'x_2': ComponentOrEquation(I=['x_0', 'x_1'], O=x_2 (<class 'str'>), f=-25.09*x_0+90.14*x_1), 'x_3': ComponentOrEquation(I=['x_0'], O=x_3 (<class 'str'>), f=-25.09*x_0), 'x_4': ComponentOrEquation(I=['x_0', 'x_1'], O=x_4 (<class 'str'>), f=-25.09*x_0+90.14*x_1), 'x_8': ComponentOrEquation(I=['x_0', 'x_1', 'x_2', 'x_3', 'x_4', 'x_5', 'x_7'], O=x_8 (<class 'str'>), f=-25.09*x_0+90.14*x_1+46.40*x_2+19.73*x_3-68.80*x_4-68.80*x_5-88.38*x_7), 'x_9': ComponentOrEquation(I=['x_0', 'x_2', 'x_4'], O=x_9 (<class 'str'>), f=-25.09*x_0+90.14*x_2+46.40*x_4), 'x_5': ComponentOrEquation(I=['x_1', 'x_2'], O=x_5 (<class 'str'>), f=-25.09*x_1+90.14*x_2), 'x_6': ComponentOrEquation(I=['x_2', 'x_4', 'x_5'], O=x_6 (<class 'str'>), f=-25.09*x_2+90.14*x_4+46.40*x_5), 'x_7': ComponentOrEquation(I=['x_4', 'x_5'], O=x_7 (<class 'str'>), f=-25.09*x_4+90.14*x_5)}, state_order=['x_3', 'x_2', 'x_4', 'x_5', 'x_9', 'x_6', 'x_7', 'x_8'])\n",
      "SCM(U={'x_0', 'x_1'}, V={'x_9', 'x_6', 'x_4', 'x_3', 'x_5', 'x_7', 'x_8', 'x_2'}, cs={'x_2': ComponentOrEquation(I=['x_0', 'x_1'], O=x_2 (<class 'str'>), f=-76.99*x_0+21.81*x_1), 'x_3': ComponentOrEquation(I=['x_0'], O=x_3 (<class 'str'>), f=-76.99*x_0), 'x_4': ComponentOrEquation(I=['x_0', 'x_1'], O=x_4 (<class 'str'>), f=-76.99*x_0+21.81*x_1), 'x_8': ComponentOrEquation(I=['x_0', 'x_1', 'x_2', 'x_3', 'x_4', 'x_5', 'x_7'], O=x_8 (<class 'str'>), f=-76.99*x_0+21.81*x_1-73.32*x_2-51.88*x_3-34.57*x_4+71.83*x_5+33.22*x_7), 'x_9': ComponentOrEquation(I=['x_0', 'x_2', 'x_4'], O=x_9 (<class 'str'>), f=-76.99*x_0+21.81*x_2-73.32*x_4), 'x_5': ComponentOrEquation(I=['x_1', 'x_2'], O=x_5 (<class 'str'>), f=-76.99*x_1+21.81*x_2), 'x_6': ComponentOrEquation(I=['x_2', 'x_4', 'x_5'], O=x_6 (<class 'str'>), f=-76.99*x_2+21.81*x_4-73.32*x_5), 'x_7': ComponentOrEquation(I=['x_4', 'x_5'], O=x_7 (<class 'str'>), f=-76.99*x_4+21.81*x_5)}, state_order=['x_3', 'x_2', 'x_4', 'x_5', 'x_9', 'x_6', 'x_7', 'x_8'])\n",
      "linear linear\n"
     ]
    }
   ],
   "source": [
    "M = S.induced_scm()\n",
    "N = T.induced_scm()\n",
    "print(M)\n",
    "print(N)\n",
    "print(M.func_type, N.func_type)"
   ]
  },
  {
   "cell_type": "code",
   "execution_count": 124,
   "metadata": {},
   "outputs": [],
   "source": [
    "def experiment(NUM_VARS, num_samples=20, rnd=None):\n",
    "    if rnd is None:\n",
    "        rnd = np.random.RandomState(SEED)\n",
    "        \n",
    "    diffs = defaultdict(list)\n",
    "    k_leg_times, shapley_times = defaultdict(list), defaultdict(list)\n",
    "    for i in tqdm(range(num_samples)):\n",
    "        # sys.stdout.flush()\n",
    "        # clear_output()\n",
    "        S = get_rand_system(NUM_VARS, 'linear', rnd=rnd)\n",
    "        T = rerand_system(S, rnd=rnd)\n",
    "        M = S.induced_scm()\n",
    "        N = T.induced_scm()\n",
    "        all_vars = list(M.U) + list(M.V)\n",
    "        F = get_rand_failure(list(M.V)[:2], ClosedHalfSpaceFailureSet, rnd=rnd)\n",
    "        u = F.get_example_context(M, N)\n",
    "        if not u:\n",
    "            print('No solution, ignored.')\n",
    "            continue\n",
    "        state_m, _ = M.get_state(u)\n",
    "        state_n, _ = N.get_state(u)\n",
    "        assert not F.contains(state_m) and F.contains(state_n)\n",
    "        for k in range(1, 3):\n",
    "            start_time = time.time()\n",
    "            k_leg = k_leg_liab(T, S, u, F, k=k)\n",
    "            k_leg_times[k].append(time.time() - start_time)\n",
    "            start_time = time.time()\n",
    "            shapley = shapley_liab(T, S, u, F, k=-1)\n",
    "            shapley_times[k].append(time.time() - start_time)\n",
    "            diffs[k].append([])\n",
    "            for var in k_leg:\n",
    "                if var in shapley:\n",
    "                    diffs[k][-1].append(k_leg[var] - shapley[var])\n",
    "                else:\n",
    "                    print(f'Warning: {var} not found in Shapley liability')\n",
    "    return diffs\n",
    "\n",
    "\n",
    "def experiment_and_plot(NUM_VARS, num_samples=20, rnd=None):\n",
    "    if rnd is None:\n",
    "        rnd = np.random.RandomState(SEED)\n",
    "\n",
    "    diffs = experiment(NUM_VARS, num_samples=num_samples, rnd=rnd)\n",
    "\n",
    "    flattened = defaultdict(list)\n",
    "    for k in diffs:\n",
    "        for sublist in diffs[k]:\n",
    "            flattened[k].extend(sublist)\n",
    "    averages = {k: [np.mean(sublist) for sublist in diffs[k]] for k in diffs}\n",
    "    # colors = ['blue', 'green', 'red', 'cyan', 'magenta', 'yellow', 'black', 'orange']\n",
    "    fig, ax = plt.subplots(3, 1, figsize=(10, 5))\n",
    "    for k in flattened:\n",
    "        ax[0].hist(flattened[k], bins=20, alpha=0.7, label=f'{k=}')\n",
    "    ax[0].legend()\n",
    "    ax[0].set_xlabel('Difference (individual)')\n",
    "\n",
    "    for k in flattened:\n",
    "        ax[1].hist(averages[k], bins=20, alpha=0.7, label=f'{k=}')\n",
    "    ax[1].legend()\n",
    "    ax[1].set_xlabel('Difference (average)')\n",
    "    plt.show()\n"
   ]
  },
  {
   "cell_type": "code",
   "execution_count": 125,
   "metadata": {},
   "outputs": [
    {
     "name": "stderr",
     "output_type": "stream",
     "text": [
      " 20%|██        | 4/20 [00:03<00:15,  1.06it/s]"
     ]
    },
    {
     "name": "stdout",
     "output_type": "stream",
     "text": [
      "No solution, ignored.\n"
     ]
    },
    {
     "name": "stderr",
     "output_type": "stream",
     "text": [
      " 35%|███▌      | 7/20 [00:05<00:11,  1.18it/s]"
     ]
    },
    {
     "name": "stdout",
     "output_type": "stream",
     "text": [
      "No solution, ignored.\n",
      "No solution, ignored.\n"
     ]
    },
    {
     "name": "stderr",
     "output_type": "stream",
     "text": [
      " 55%|█████▌    | 11/20 [00:07<00:05,  1.75it/s]"
     ]
    },
    {
     "name": "stdout",
     "output_type": "stream",
     "text": [
      "No solution, ignored.\n"
     ]
    },
    {
     "name": "stderr",
     "output_type": "stream",
     "text": [
      " 70%|███████   | 14/20 [00:10<00:04,  1.24it/s]"
     ]
    },
    {
     "name": "stdout",
     "output_type": "stream",
     "text": [
      "No solution, ignored.\n",
      "No solution, ignored.\n"
     ]
    },
    {
     "name": "stderr",
     "output_type": "stream",
     "text": [
      "100%|██████████| 20/20 [00:14<00:00,  1.35it/s]\n"
     ]
    },
    {
     "name": "stdout",
     "output_type": "stream",
     "text": [
      "No solution, ignored.\n"
     ]
    },
    {
     "data": {
      "image/png": "[encoded data removed]",
      "text/plain": [
       "<Figure size 1000x500 with 2 Axes>"
      ]
     },
     "metadata": {},
     "output_type": "display_data"
    }
   ],
   "source": [
    "rnd = np.random.RandomState(SEED)\n",
    "experiment_and_plot(6, rnd=rnd)"
   ]
  },
  {
   "cell_type": "code",
   "execution_count": 126,
   "metadata": {},
   "outputs": [
    {
     "name": "stderr",
     "output_type": "stream",
     "text": [
      " 10%|█         | 2/20 [00:17<02:34,  8.57s/it]\n"
     ]
    },
    {
     "ename": "KeyboardInterrupt",
     "evalue": "",
     "output_type": "error",
     "traceback": [
      "\u001b[0;31m---------------------------------------------------------------------------\u001b[0m",
      "\u001b[0;31mKeyError\u001b[0m                                  Traceback (most recent call last)",
      "File \u001b[0;32m~/phd/liab/.venv/lib/python3.10/site-packages/sympy/core/evalf.py:1483\u001b[0m, in \u001b[0;36mevalf\u001b[0;34m(x, prec, options)\u001b[0m\n\u001b[1;32m   1482\u001b[0m     rf \u001b[38;5;241m=\u001b[39m evalf_table[\u001b[38;5;28mtype\u001b[39m(x)]\n\u001b[0;32m-> 1483\u001b[0m     r \u001b[38;5;241m=\u001b[39m \u001b[43mrf\u001b[49m\u001b[43m(\u001b[49m\u001b[43mx\u001b[49m\u001b[43m,\u001b[49m\u001b[43m \u001b[49m\u001b[43mprec\u001b[49m\u001b[43m,\u001b[49m\u001b[43m \u001b[49m\u001b[43moptions\u001b[49m\u001b[43m)\u001b[49m\n\u001b[1;32m   1484\u001b[0m \u001b[38;5;28;01mexcept\u001b[39;00m \u001b[38;5;167;01mKeyError\u001b[39;00m:\n\u001b[1;32m   1485\u001b[0m     \u001b[38;5;66;03m# Fall back to ordinary evalf if possible\u001b[39;00m\n",
      "File \u001b[0;32m~/phd/liab/.venv/lib/python3.10/site-packages/sympy/core/evalf.py:1370\u001b[0m, in \u001b[0;36mevalf_symbol\u001b[0;34m(x, prec, options)\u001b[0m\n\u001b[1;32m   1369\u001b[0m \u001b[38;5;28;01mdef\u001b[39;00m \u001b[38;5;21mevalf_symbol\u001b[39m(x: \u001b[38;5;124m'\u001b[39m\u001b[38;5;124mExpr\u001b[39m\u001b[38;5;124m'\u001b[39m, prec: \u001b[38;5;28mint\u001b[39m, options: OPT_DICT) \u001b[38;5;241m-\u001b[39m\u001b[38;5;241m>\u001b[39m TMP_RES:\n\u001b[0;32m-> 1370\u001b[0m     val \u001b[38;5;241m=\u001b[39m \u001b[43moptions\u001b[49m\u001b[43m[\u001b[49m\u001b[38;5;124;43m'\u001b[39;49m\u001b[38;5;124;43msubs\u001b[39;49m\u001b[38;5;124;43m'\u001b[39;49m\u001b[43m]\u001b[49m\u001b[43m[\u001b[49m\u001b[43mx\u001b[49m\u001b[43m]\u001b[49m\n\u001b[1;32m   1371\u001b[0m     \u001b[38;5;28;01mif\u001b[39;00m \u001b[38;5;28misinstance\u001b[39m(val, mpf):\n",
      "\u001b[0;31mKeyError\u001b[0m: x_6",
      "\nDuring handling of the above exception, another exception occurred:\n",
      "\u001b[0;31mKeyboardInterrupt\u001b[0m                         Traceback (most recent call last)",
      "Cell \u001b[0;32mIn[126], line 1\u001b[0m\n\u001b[0;32m----> 1\u001b[0m \u001b[43mexperiment_and_plot\u001b[49m\u001b[43m(\u001b[49m\u001b[38;5;241;43m8\u001b[39;49m\u001b[43m,\u001b[49m\u001b[43m \u001b[49m\u001b[43mrnd\u001b[49m\u001b[38;5;241;43m=\u001b[39;49m\u001b[43mrnd\u001b[49m\u001b[43m)\u001b[49m\n",
      "Cell \u001b[0;32mIn[124], line 43\u001b[0m, in \u001b[0;36mexperiment_and_plot\u001b[0;34m(NUM_VARS, num_samples, rnd)\u001b[0m\n\u001b[1;32m     40\u001b[0m \u001b[38;5;28;01mif\u001b[39;00m rnd \u001b[38;5;129;01mis\u001b[39;00m \u001b[38;5;28;01mNone\u001b[39;00m:\n\u001b[1;32m     41\u001b[0m     rnd \u001b[38;5;241m=\u001b[39m np\u001b[38;5;241m.\u001b[39mrandom\u001b[38;5;241m.\u001b[39mRandomState(SEED)\n\u001b[0;32m---> 43\u001b[0m diffs \u001b[38;5;241m=\u001b[39m \u001b[43mexperiment\u001b[49m\u001b[43m(\u001b[49m\u001b[43mNUM_VARS\u001b[49m\u001b[43m,\u001b[49m\u001b[43m \u001b[49m\u001b[43mnum_samples\u001b[49m\u001b[38;5;241;43m=\u001b[39;49m\u001b[43mnum_samples\u001b[49m\u001b[43m,\u001b[49m\u001b[43m \u001b[49m\u001b[43mrnd\u001b[49m\u001b[38;5;241;43m=\u001b[39;49m\u001b[43mrnd\u001b[49m\u001b[43m)\u001b[49m\n\u001b[1;32m     45\u001b[0m flattened \u001b[38;5;241m=\u001b[39m defaultdict(\u001b[38;5;28mlist\u001b[39m)\n\u001b[1;32m     46\u001b[0m \u001b[38;5;28;01mfor\u001b[39;00m k \u001b[38;5;129;01min\u001b[39;00m diffs:\n",
      "Cell \u001b[0;32mIn[124], line 28\u001b[0m, in \u001b[0;36mexperiment\u001b[0;34m(NUM_VARS, num_samples, rnd)\u001b[0m\n\u001b[1;32m     26\u001b[0m k_leg_times[k]\u001b[38;5;241m.\u001b[39mappend(time\u001b[38;5;241m.\u001b[39mtime() \u001b[38;5;241m-\u001b[39m start_time)\n\u001b[1;32m     27\u001b[0m start_time \u001b[38;5;241m=\u001b[39m time\u001b[38;5;241m.\u001b[39mtime()\n\u001b[0;32m---> 28\u001b[0m shapley \u001b[38;5;241m=\u001b[39m \u001b[43mshapley_liab\u001b[49m\u001b[43m(\u001b[49m\u001b[43mT\u001b[49m\u001b[43m,\u001b[49m\u001b[43m \u001b[49m\u001b[43mS\u001b[49m\u001b[43m,\u001b[49m\u001b[43m \u001b[49m\u001b[43mu\u001b[49m\u001b[43m,\u001b[49m\u001b[43m \u001b[49m\u001b[43mF\u001b[49m\u001b[43m,\u001b[49m\u001b[43m \u001b[49m\u001b[43mk\u001b[49m\u001b[38;5;241;43m=\u001b[39;49m\u001b[38;5;241;43m-\u001b[39;49m\u001b[38;5;241;43m1\u001b[39;49m\u001b[43m)\u001b[49m\n\u001b[1;32m     29\u001b[0m shapley_times[k]\u001b[38;5;241m.\u001b[39mappend(time\u001b[38;5;241m.\u001b[39mtime() \u001b[38;5;241m-\u001b[39m start_time)\n\u001b[1;32m     30\u001b[0m diffs[k]\u001b[38;5;241m.\u001b[39mappend([])\n",
      "File \u001b[0;32m~/phd/liab/examples/../src/liab/shapley_liab.py:37\u001b[0m, in \u001b[0;36mshapley_liab\u001b[0;34m(T, S, u, F, k)\u001b[0m\n\u001b[1;32m     35\u001b[0m B \u001b[38;5;241m=\u001b[39m []\n\u001b[1;32m     36\u001b[0m \u001b[38;5;28;01mfor\u001b[39;00m K \u001b[38;5;129;01min\u001b[39;00m subsets_upto(T\u001b[38;5;241m.\u001b[39mcs, \u001b[38;5;28mlen\u001b[39m(T\u001b[38;5;241m.\u001b[39mcs)\u001b[38;5;241m-\u001b[39m\u001b[38;5;241m1\u001b[39m):\n\u001b[0;32m---> 37\u001b[0m     \u001b[38;5;28;01mif\u001b[39;00m \u001b[43mbf\u001b[49m\u001b[43m(\u001b[49m\u001b[43mT\u001b[49m\u001b[43m,\u001b[49m\u001b[43m \u001b[49m\u001b[43mS\u001b[49m\u001b[43m,\u001b[49m\u001b[43m \u001b[49m\u001b[43m[\u001b[49m\u001b[43mX\u001b[49m\u001b[43m]\u001b[49m\u001b[38;5;241;43m+\u001b[39;49m\u001b[38;5;28;43mlist\u001b[39;49m\u001b[43m(\u001b[49m\u001b[43mK\u001b[49m\u001b[43m)\u001b[49m\u001b[43m,\u001b[49m\u001b[43m \u001b[49m\u001b[43mu\u001b[49m\u001b[43m,\u001b[49m\u001b[43m \u001b[49m\u001b[43mF\u001b[49m\u001b[43m,\u001b[49m\u001b[43m \u001b[49m\u001b[43mbf_dict\u001b[49m\u001b[43m)\u001b[49m:\n\u001b[1;32m     38\u001b[0m         B\u001b[38;5;241m.\u001b[39mappend(K)\n\u001b[1;32m     40\u001b[0m \u001b[38;5;28;01mif\u001b[39;00m \u001b[38;5;28mlen\u001b[39m(B) \u001b[38;5;241m==\u001b[39m \u001b[38;5;241m0\u001b[39m:\n",
      "File \u001b[0;32m~/phd/liab/examples/../src/liab/bf.py:45\u001b[0m, in \u001b[0;36mbf\u001b[0;34m(T, S, X, u, F, bf_dict)\u001b[0m\n\u001b[1;32m     42\u001b[0m     bf_dict_ \u001b[38;5;241m=\u001b[39m bf_dict\n\u001b[1;32m     44\u001b[0m \u001b[38;5;66;03m# BF1 axiom (in the paper)\u001b[39;00m\n\u001b[0;32m---> 45\u001b[0m t_dict, _ \u001b[38;5;241m=\u001b[39m \u001b[43mN\u001b[49m\u001b[38;5;241;43m.\u001b[39;49m\u001b[43mget_state\u001b[49m\u001b[43m(\u001b[49m\u001b[43mu\u001b[49m\u001b[43m)\u001b[49m\n\u001b[1;32m     46\u001b[0m \u001b[38;5;28;01mif\u001b[39;00m \u001b[38;5;129;01mnot\u001b[39;00m F\u001b[38;5;241m.\u001b[39mcontains(t_dict):\n\u001b[1;32m     47\u001b[0m     \u001b[38;5;28;01mreturn\u001b[39;00m \u001b[38;5;28;01mFalse\u001b[39;00m\n",
      "File \u001b[0;32m~/phd/liab/examples/../src/liab/scm.py:117\u001b[0m, in \u001b[0;36mSCM.get_state\u001b[0;34m(self, _context)\u001b[0m\n\u001b[1;32m    115\u001b[0m     \u001b[38;5;28;01mreturn\u001b[39;00m \u001b[38;5;28mself\u001b[39m\u001b[38;5;241m.\u001b[39mget_state_b(_context)\n\u001b[1;32m    116\u001b[0m \u001b[38;5;28;01melse\u001b[39;00m:\n\u001b[0;32m--> 117\u001b[0m     \u001b[38;5;28;01mreturn\u001b[39;00m \u001b[38;5;28;43mself\u001b[39;49m\u001b[38;5;241;43m.\u001b[39;49m\u001b[43mget_state_f\u001b[49m\u001b[43m(\u001b[49m\u001b[43m_context\u001b[49m\u001b[43m)\u001b[49m\n",
      "File \u001b[0;32m~/phd/liab/examples/../src/liab/scm.py:134\u001b[0m, in \u001b[0;36mSCM.get_state_f\u001b[0;34m(self, _context)\u001b[0m\n\u001b[1;32m    132\u001b[0m \u001b[38;5;28;01mif\u001b[39;00m \u001b[38;5;28misinstance\u001b[39m(_v_sym, sympy\u001b[38;5;241m.\u001b[39mBasic):\n\u001b[1;32m    133\u001b[0m     \u001b[38;5;28;01mtry\u001b[39;00m:\n\u001b[0;32m--> 134\u001b[0m         _v_val \u001b[38;5;241m=\u001b[39m \u001b[38;5;28mfloat\u001b[39m(\u001b[43m_v_sym\u001b[49m\u001b[38;5;241;43m.\u001b[39;49m\u001b[43mevalf\u001b[49m\u001b[43m(\u001b[49m\u001b[43msubs\u001b[49m\u001b[38;5;241;43m=\u001b[39;49m\u001b[43m_subs\u001b[49m\u001b[43m)\u001b[49m)\n\u001b[1;32m    135\u001b[0m     \u001b[38;5;28;01mexcept\u001b[39;00m:\n\u001b[1;32m    136\u001b[0m         \u001b[38;5;28;01mraise\u001b[39;00m\n",
      "File \u001b[0;32m~/phd/liab/.venv/lib/python3.10/site-packages/sympy/core/evalf.py:1648\u001b[0m, in \u001b[0;36mEvalfMixin.evalf\u001b[0;34m(self, n, subs, maxn, chop, strict, quad, verbose)\u001b[0m\n\u001b[1;32m   1646\u001b[0m     options[\u001b[38;5;124m'\u001b[39m\u001b[38;5;124mquad\u001b[39m\u001b[38;5;124m'\u001b[39m] \u001b[38;5;241m=\u001b[39m quad\n\u001b[1;32m   1647\u001b[0m \u001b[38;5;28;01mtry\u001b[39;00m:\n\u001b[0;32m-> 1648\u001b[0m     result \u001b[38;5;241m=\u001b[39m \u001b[43mevalf\u001b[49m\u001b[43m(\u001b[49m\u001b[38;5;28;43mself\u001b[39;49m\u001b[43m,\u001b[49m\u001b[43m \u001b[49m\u001b[43mprec\u001b[49m\u001b[43m \u001b[49m\u001b[38;5;241;43m+\u001b[39;49m\u001b[43m \u001b[49m\u001b[38;5;241;43m4\u001b[39;49m\u001b[43m,\u001b[49m\u001b[43m \u001b[49m\u001b[43moptions\u001b[49m\u001b[43m)\u001b[49m\n\u001b[1;32m   1649\u001b[0m \u001b[38;5;28;01mexcept\u001b[39;00m \u001b[38;5;167;01mNotImplementedError\u001b[39;00m:\n\u001b[1;32m   1650\u001b[0m     \u001b[38;5;66;03m# Fall back to the ordinary evalf\u001b[39;00m\n\u001b[1;32m   1651\u001b[0m     \u001b[38;5;28;01mif\u001b[39;00m \u001b[38;5;28mhasattr\u001b[39m(\u001b[38;5;28mself\u001b[39m, \u001b[38;5;124m'\u001b[39m\u001b[38;5;124msubs\u001b[39m\u001b[38;5;124m'\u001b[39m) \u001b[38;5;129;01mand\u001b[39;00m subs \u001b[38;5;129;01mis\u001b[39;00m \u001b[38;5;129;01mnot\u001b[39;00m \u001b[38;5;28;01mNone\u001b[39;00m:  \u001b[38;5;66;03m# issue 20291\u001b[39;00m\n",
      "File \u001b[0;32m~/phd/liab/.venv/lib/python3.10/site-packages/sympy/core/evalf.py:1483\u001b[0m, in \u001b[0;36mevalf\u001b[0;34m(x, prec, options)\u001b[0m\n\u001b[1;32m   1481\u001b[0m \u001b[38;5;28;01mtry\u001b[39;00m:\n\u001b[1;32m   1482\u001b[0m     rf \u001b[38;5;241m=\u001b[39m evalf_table[\u001b[38;5;28mtype\u001b[39m(x)]\n\u001b[0;32m-> 1483\u001b[0m     r \u001b[38;5;241m=\u001b[39m \u001b[43mrf\u001b[49m\u001b[43m(\u001b[49m\u001b[43mx\u001b[49m\u001b[43m,\u001b[49m\u001b[43m \u001b[49m\u001b[43mprec\u001b[49m\u001b[43m,\u001b[49m\u001b[43m \u001b[49m\u001b[43moptions\u001b[49m\u001b[43m)\u001b[49m\n\u001b[1;32m   1484\u001b[0m \u001b[38;5;28;01mexcept\u001b[39;00m \u001b[38;5;167;01mKeyError\u001b[39;00m:\n\u001b[1;32m   1485\u001b[0m     \u001b[38;5;66;03m# Fall back to ordinary evalf if possible\u001b[39;00m\n\u001b[1;32m   1486\u001b[0m     \u001b[38;5;28;01mif\u001b[39;00m \u001b[38;5;124m'\u001b[39m\u001b[38;5;124msubs\u001b[39m\u001b[38;5;124m'\u001b[39m \u001b[38;5;129;01min\u001b[39;00m options:\n",
      "File \u001b[0;32m~/phd/liab/.venv/lib/python3.10/site-packages/sympy/core/evalf.py:601\u001b[0m, in \u001b[0;36mevalf_add\u001b[0;34m(v, prec, options)\u001b[0m\n\u001b[1;32m    598\u001b[0m \u001b[38;5;28;01mwhile\u001b[39;00m \u001b[38;5;241m1\u001b[39m:\n\u001b[1;32m    599\u001b[0m     options[\u001b[38;5;124m'\u001b[39m\u001b[38;5;124mmaxprec\u001b[39m\u001b[38;5;124m'\u001b[39m] \u001b[38;5;241m=\u001b[39m \u001b[38;5;28mmin\u001b[39m(oldmaxprec, \u001b[38;5;241m2\u001b[39m\u001b[38;5;241m*\u001b[39mprec)\n\u001b[0;32m--> 601\u001b[0m     terms \u001b[38;5;241m=\u001b[39m [evalf(arg, prec \u001b[38;5;241m+\u001b[39m \u001b[38;5;241m10\u001b[39m, options) \u001b[38;5;28;01mfor\u001b[39;00m arg \u001b[38;5;129;01min\u001b[39;00m v\u001b[38;5;241m.\u001b[39margs]\n\u001b[1;32m    602\u001b[0m     n \u001b[38;5;241m=\u001b[39m terms\u001b[38;5;241m.\u001b[39mcount(S\u001b[38;5;241m.\u001b[39mComplexInfinity)\n\u001b[1;32m    603\u001b[0m     \u001b[38;5;28;01mif\u001b[39;00m n \u001b[38;5;241m>\u001b[39m\u001b[38;5;241m=\u001b[39m \u001b[38;5;241m2\u001b[39m:\n",
      "File \u001b[0;32m~/phd/liab/.venv/lib/python3.10/site-packages/sympy/core/evalf.py:601\u001b[0m, in \u001b[0;36m<listcomp>\u001b[0;34m(.0)\u001b[0m\n\u001b[1;32m    598\u001b[0m \u001b[38;5;28;01mwhile\u001b[39;00m \u001b[38;5;241m1\u001b[39m:\n\u001b[1;32m    599\u001b[0m     options[\u001b[38;5;124m'\u001b[39m\u001b[38;5;124mmaxprec\u001b[39m\u001b[38;5;124m'\u001b[39m] \u001b[38;5;241m=\u001b[39m \u001b[38;5;28mmin\u001b[39m(oldmaxprec, \u001b[38;5;241m2\u001b[39m\u001b[38;5;241m*\u001b[39mprec)\n\u001b[0;32m--> 601\u001b[0m     terms \u001b[38;5;241m=\u001b[39m [\u001b[43mevalf\u001b[49m\u001b[43m(\u001b[49m\u001b[43marg\u001b[49m\u001b[43m,\u001b[49m\u001b[43m \u001b[49m\u001b[43mprec\u001b[49m\u001b[43m \u001b[49m\u001b[38;5;241;43m+\u001b[39;49m\u001b[43m \u001b[49m\u001b[38;5;241;43m10\u001b[39;49m\u001b[43m,\u001b[49m\u001b[43m \u001b[49m\u001b[43moptions\u001b[49m\u001b[43m)\u001b[49m \u001b[38;5;28;01mfor\u001b[39;00m arg \u001b[38;5;129;01min\u001b[39;00m v\u001b[38;5;241m.\u001b[39margs]\n\u001b[1;32m    602\u001b[0m     n \u001b[38;5;241m=\u001b[39m terms\u001b[38;5;241m.\u001b[39mcount(S\u001b[38;5;241m.\u001b[39mComplexInfinity)\n\u001b[1;32m    603\u001b[0m     \u001b[38;5;28;01mif\u001b[39;00m n \u001b[38;5;241m>\u001b[39m\u001b[38;5;241m=\u001b[39m \u001b[38;5;241m2\u001b[39m:\n",
      "File \u001b[0;32m~/phd/liab/.venv/lib/python3.10/site-packages/sympy/core/evalf.py:1483\u001b[0m, in \u001b[0;36mevalf\u001b[0;34m(x, prec, options)\u001b[0m\n\u001b[1;32m   1481\u001b[0m \u001b[38;5;28;01mtry\u001b[39;00m:\n\u001b[1;32m   1482\u001b[0m     rf \u001b[38;5;241m=\u001b[39m evalf_table[\u001b[38;5;28mtype\u001b[39m(x)]\n\u001b[0;32m-> 1483\u001b[0m     r \u001b[38;5;241m=\u001b[39m \u001b[43mrf\u001b[49m\u001b[43m(\u001b[49m\u001b[43mx\u001b[49m\u001b[43m,\u001b[49m\u001b[43m \u001b[49m\u001b[43mprec\u001b[49m\u001b[43m,\u001b[49m\u001b[43m \u001b[49m\u001b[43moptions\u001b[49m\u001b[43m)\u001b[49m\n\u001b[1;32m   1484\u001b[0m \u001b[38;5;28;01mexcept\u001b[39;00m \u001b[38;5;167;01mKeyError\u001b[39;00m:\n\u001b[1;32m   1485\u001b[0m     \u001b[38;5;66;03m# Fall back to ordinary evalf if possible\u001b[39;00m\n\u001b[1;32m   1486\u001b[0m     \u001b[38;5;28;01mif\u001b[39;00m \u001b[38;5;124m'\u001b[39m\u001b[38;5;124msubs\u001b[39m\u001b[38;5;124m'\u001b[39m \u001b[38;5;129;01min\u001b[39;00m options:\n",
      "File \u001b[0;32m~/phd/liab/.venv/lib/python3.10/site-packages/sympy/core/evalf.py:649\u001b[0m, in \u001b[0;36mevalf_mul\u001b[0;34m(v, prec, options)\u001b[0m\n\u001b[1;32m    647\u001b[0m \u001b[38;5;28;01mfrom\u001b[39;00m \u001b[38;5;21;01m.\u001b[39;00m\u001b[38;5;21;01mnumbers\u001b[39;00m \u001b[38;5;28;01mimport\u001b[39;00m Float\n\u001b[1;32m    648\u001b[0m \u001b[38;5;28;01mfor\u001b[39;00m arg \u001b[38;5;129;01min\u001b[39;00m args:\n\u001b[0;32m--> 649\u001b[0m     result \u001b[38;5;241m=\u001b[39m \u001b[43mevalf\u001b[49m\u001b[43m(\u001b[49m\u001b[43marg\u001b[49m\u001b[43m,\u001b[49m\u001b[43m \u001b[49m\u001b[43mprec\u001b[49m\u001b[43m,\u001b[49m\u001b[43m \u001b[49m\u001b[43moptions\u001b[49m\u001b[43m)\u001b[49m\n\u001b[1;32m    650\u001b[0m     \u001b[38;5;28;01mif\u001b[39;00m result \u001b[38;5;129;01mis\u001b[39;00m S\u001b[38;5;241m.\u001b[39mComplexInfinity:\n\u001b[1;32m    651\u001b[0m         special\u001b[38;5;241m.\u001b[39mappend(result)\n",
      "File \u001b[0;32m~/phd/liab/.venv/lib/python3.10/site-packages/sympy/core/evalf.py:1487\u001b[0m, in \u001b[0;36mevalf\u001b[0;34m(x, prec, options)\u001b[0m\n\u001b[1;32m   1484\u001b[0m \u001b[38;5;28;01mexcept\u001b[39;00m \u001b[38;5;167;01mKeyError\u001b[39;00m:\n\u001b[1;32m   1485\u001b[0m     \u001b[38;5;66;03m# Fall back to ordinary evalf if possible\u001b[39;00m\n\u001b[1;32m   1486\u001b[0m     \u001b[38;5;28;01mif\u001b[39;00m \u001b[38;5;124m'\u001b[39m\u001b[38;5;124msubs\u001b[39m\u001b[38;5;124m'\u001b[39m \u001b[38;5;129;01min\u001b[39;00m options:\n\u001b[0;32m-> 1487\u001b[0m         x \u001b[38;5;241m=\u001b[39m \u001b[43mx\u001b[49m\u001b[38;5;241;43m.\u001b[39;49m\u001b[43msubs\u001b[49m\u001b[43m(\u001b[49m\u001b[43mevalf_subs\u001b[49m\u001b[43m(\u001b[49m\u001b[43mprec\u001b[49m\u001b[43m,\u001b[49m\u001b[43m \u001b[49m\u001b[43moptions\u001b[49m\u001b[43m[\u001b[49m\u001b[38;5;124;43m'\u001b[39;49m\u001b[38;5;124;43msubs\u001b[39;49m\u001b[38;5;124;43m'\u001b[39;49m\u001b[43m]\u001b[49m\u001b[43m)\u001b[49m\u001b[43m)\u001b[49m\n\u001b[1;32m   1488\u001b[0m     xe \u001b[38;5;241m=\u001b[39m x\u001b[38;5;241m.\u001b[39m_eval_evalf(prec)\n\u001b[1;32m   1489\u001b[0m     \u001b[38;5;28;01mif\u001b[39;00m xe \u001b[38;5;129;01mis\u001b[39;00m \u001b[38;5;28;01mNone\u001b[39;00m:\n",
      "File \u001b[0;32m~/phd/liab/.venv/lib/python3.10/site-packages/sympy/core/basic.py:1074\u001b[0m, in \u001b[0;36mBasic.subs\u001b[0;34m(self, *args, **kwargs)\u001b[0m\n\u001b[1;32m   1071\u001b[0m     \u001b[38;5;28;01melse\u001b[39;00m:\n\u001b[1;32m   1072\u001b[0m         \u001b[38;5;28;01mreturn\u001b[39;00m sympify(new, strict\u001b[38;5;241m=\u001b[39m\u001b[38;5;28;01mTrue\u001b[39;00m)\n\u001b[0;32m-> 1074\u001b[0m sequence \u001b[38;5;241m=\u001b[39m [(sympify_old(s1), sympify_new(s2)) \u001b[38;5;28;01mfor\u001b[39;00m s1, s2 \u001b[38;5;129;01min\u001b[39;00m sequence]\n\u001b[1;32m   1076\u001b[0m \u001b[38;5;66;03m# skip if there is no change\u001b[39;00m\n\u001b[1;32m   1077\u001b[0m sequence \u001b[38;5;241m=\u001b[39m [(s1, s2) \u001b[38;5;28;01mfor\u001b[39;00m s1, s2 \u001b[38;5;129;01min\u001b[39;00m sequence \u001b[38;5;28;01mif\u001b[39;00m \u001b[38;5;129;01mnot\u001b[39;00m _aresame(s1, s2)]\n",
      "File \u001b[0;32m~/phd/liab/.venv/lib/python3.10/site-packages/sympy/core/basic.py:1074\u001b[0m, in \u001b[0;36m<listcomp>\u001b[0;34m(.0)\u001b[0m\n\u001b[1;32m   1071\u001b[0m     \u001b[38;5;28;01melse\u001b[39;00m:\n\u001b[1;32m   1072\u001b[0m         \u001b[38;5;28;01mreturn\u001b[39;00m sympify(new, strict\u001b[38;5;241m=\u001b[39m\u001b[38;5;28;01mTrue\u001b[39;00m)\n\u001b[0;32m-> 1074\u001b[0m sequence \u001b[38;5;241m=\u001b[39m [(\u001b[43msympify_old\u001b[49m\u001b[43m(\u001b[49m\u001b[43ms1\u001b[49m\u001b[43m)\u001b[49m, sympify_new(s2)) \u001b[38;5;28;01mfor\u001b[39;00m s1, s2 \u001b[38;5;129;01min\u001b[39;00m sequence]\n\u001b[1;32m   1076\u001b[0m \u001b[38;5;66;03m# skip if there is no change\u001b[39;00m\n\u001b[1;32m   1077\u001b[0m sequence \u001b[38;5;241m=\u001b[39m [(s1, s2) \u001b[38;5;28;01mfor\u001b[39;00m s1, s2 \u001b[38;5;129;01min\u001b[39;00m sequence \u001b[38;5;28;01mif\u001b[39;00m \u001b[38;5;129;01mnot\u001b[39;00m _aresame(s1, s2)]\n",
      "File \u001b[0;32m~/phd/liab/.venv/lib/python3.10/site-packages/sympy/core/basic.py:1060\u001b[0m, in \u001b[0;36mBasic.subs.<locals>.sympify_old\u001b[0;34m(old)\u001b[0m\n\u001b[1;32m   1057\u001b[0m \u001b[38;5;28;01mdef\u001b[39;00m \u001b[38;5;21msympify_old\u001b[39m(old):\n\u001b[1;32m   1058\u001b[0m     \u001b[38;5;28;01mif\u001b[39;00m \u001b[38;5;28misinstance\u001b[39m(old, \u001b[38;5;28mstr\u001b[39m):\n\u001b[1;32m   1059\u001b[0m         \u001b[38;5;66;03m# Use Symbol rather than parse_expr for old\u001b[39;00m\n\u001b[0;32m-> 1060\u001b[0m         \u001b[38;5;28;01mreturn\u001b[39;00m \u001b[43mSymbol\u001b[49m\u001b[43m(\u001b[49m\u001b[43mold\u001b[49m\u001b[43m)\u001b[49m\n\u001b[1;32m   1061\u001b[0m     \u001b[38;5;28;01melif\u001b[39;00m \u001b[38;5;28misinstance\u001b[39m(old, \u001b[38;5;28mtype\u001b[39m):\n\u001b[1;32m   1062\u001b[0m         \u001b[38;5;66;03m# Allow a type e.g. Function('f') or sin\u001b[39;00m\n\u001b[1;32m   1063\u001b[0m         \u001b[38;5;28;01mreturn\u001b[39;00m sympify(old, strict\u001b[38;5;241m=\u001b[39m\u001b[38;5;28;01mFalse\u001b[39;00m)\n",
      "File \u001b[0;32m~/phd/liab/.venv/lib/python3.10/site-packages/sympy/core/symbol.py:329\u001b[0m, in \u001b[0;36mSymbol.__new__\u001b[0;34m(cls, name, **assumptions)\u001b[0m\n\u001b[1;32m    319\u001b[0m \u001b[38;5;28;01mdef\u001b[39;00m \u001b[38;5;21m__new__\u001b[39m(\u001b[38;5;28mcls\u001b[39m, name, \u001b[38;5;241m*\u001b[39m\u001b[38;5;241m*\u001b[39massumptions):\n\u001b[1;32m    320\u001b[0m \u001b[38;5;250m    \u001b[39m\u001b[38;5;124;03m\"\"\"Symbols are identified by name and assumptions::\u001b[39;00m\n\u001b[1;32m    321\u001b[0m \n\u001b[1;32m    322\u001b[0m \u001b[38;5;124;03m    >>> from sympy import Symbol\u001b[39;00m\n\u001b[0;32m   (...)\u001b[0m\n\u001b[1;32m    327\u001b[0m \n\u001b[1;32m    328\u001b[0m \u001b[38;5;124;03m    \"\"\"\u001b[39;00m\n\u001b[0;32m--> 329\u001b[0m     \u001b[38;5;28;43mcls\u001b[39;49m\u001b[38;5;241;43m.\u001b[39;49m\u001b[43m_sanitize\u001b[49m\u001b[43m(\u001b[49m\u001b[43massumptions\u001b[49m\u001b[43m,\u001b[49m\u001b[43m \u001b[49m\u001b[38;5;28;43mcls\u001b[39;49m\u001b[43m)\u001b[49m\n\u001b[1;32m    330\u001b[0m     \u001b[38;5;28;01mreturn\u001b[39;00m Symbol\u001b[38;5;241m.\u001b[39m__xnew_cached_(\u001b[38;5;28mcls\u001b[39m, name, \u001b[38;5;241m*\u001b[39m\u001b[38;5;241m*\u001b[39massumptions)\n",
      "File \u001b[0;32m~/phd/liab/.venv/lib/python3.10/site-packages/sympy/core/symbol.py:301\u001b[0m, in \u001b[0;36mSymbol._sanitize\u001b[0;34m(assumptions, obj)\u001b[0m\n\u001b[1;32m    297\u001b[0m     \u001b[38;5;28;01mraise\u001b[39;00m \u001b[38;5;167;01mValueError\u001b[39;00m(\n\u001b[1;32m    298\u001b[0m         \u001b[38;5;124m'\u001b[39m\u001b[38;5;132;01m%s\u001b[39;00m\u001b[38;5;124mcommutativity must be True or False.\u001b[39m\u001b[38;5;124m'\u001b[39m \u001b[38;5;241m%\u001b[39m whose)\n\u001b[1;32m    300\u001b[0m \u001b[38;5;66;03m# sanitize other assumptions so 1 -> True and 0 -> False\u001b[39;00m\n\u001b[0;32m--> 301\u001b[0m \u001b[38;5;28;01mfor\u001b[39;00m key \u001b[38;5;129;01min\u001b[39;00m \u001b[38;5;28;43mlist\u001b[39;49m\u001b[43m(\u001b[49m\u001b[43massumptions\u001b[49m\u001b[38;5;241;43m.\u001b[39;49m\u001b[43mkeys\u001b[49m\u001b[43m(\u001b[49m\u001b[43m)\u001b[49m\u001b[43m)\u001b[49m:\n\u001b[1;32m    302\u001b[0m     v \u001b[38;5;241m=\u001b[39m assumptions[key]\n\u001b[1;32m    303\u001b[0m     \u001b[38;5;28;01mif\u001b[39;00m v \u001b[38;5;129;01mis\u001b[39;00m \u001b[38;5;28;01mNone\u001b[39;00m:\n",
      "\u001b[0;31mKeyboardInterrupt\u001b[0m: "
     ]
    }
   ],
   "source": [
    "experiment_and_plot(8, rnd=rnd)"
   ]
  },
  {
   "cell_type": "code",
   "execution_count": 13,
   "metadata": {},
   "outputs": [],
   "source": [
    "# diffs = []\n",
    "# for i in range(1000):\n",
    "#     S = get_random_system(NUM_VARS, bool, seed=SEED)\n",
    "#     T = rerand_system(S, seed=SEED+1)\n",
    "#     M = S.induced_scm()\n",
    "#     N = T.induced_scm()\n",
    "#     vars = list(M.U) + list(M.V)\n",
    "#     for var in vars:\n",
    "#         locals()[var] = sp.symbols(var)\n",
    "#     F = QFFOFormulaFailureSet(eval(get_rand_prop(vars, num_syms=1)))\n",
    "\n",
    "#     for u_vals in all_combs_b(len(M.U)):\n",
    "#         u = dict(zip([str(u) for u in M.U], u_vals))\n",
    "#         state_m, _ = M.get_state(u)\n",
    "#         state_n, _ = N.get_state(u)\n",
    "#         if F.contains(state_m) or not F.contains(state_n):\n",
    "#             # print('Specification already failed or implementation not failed or both!')\n",
    "#             continue\n",
    "#         print(k)\n",
    "#         for k in range(1, 3):\n",
    "#             k_leg = k_leg_liab(T, S, u, F, k=k)\n",
    "#             shapley = shapley_liab(T, S, u, F, k=k)\n",
    "#             for var in k_leg:\n",
    "#                 if var in shapley:\n",
    "#                     diffs.append(k_leg[var] - shapley[var])\n",
    "#                 else:\n",
    "#                     print(f'Warning: {var} not found in Shapley liability')\n",
    "#         print()\n",
    "    \n",
    "# #############\n",
    "# ## Current problem: generating a context that M[u] \\notin F but N[u] \\in F\n",
    "# ## Solution: Use an SMT solver\n",
    "# #############"
   ]
  }
 ],
 "metadata": {
  "kernelspec": {
   "display_name": ".venv",
   "language": "python",
   "name": "python3"
  },
  "language_info": {
   "codemirror_mode": {
    "name": "ipython",
    "version": 3
   },
   "file_extension": ".py",
   "mimetype": "text/x-python",
   "name": "python",
   "nbconvert_exporter": "python",
   "pygments_lexer": "ipython3",
   "version": "3.10.6"
  }
 },
 "nbformat": 4,
 "nbformat_minor": 2
}
