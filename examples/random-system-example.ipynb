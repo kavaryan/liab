{
 "cells": [
  {
   "cell_type": "code",
   "execution_count": 2,
   "metadata": {},
   "outputs": [],
   "source": [
    "%reload_ext autoreload\n",
    "%autoreload 2\n",
    "import sys\n",
    "sys.path.append('../src')"
   ]
  },
  {
   "cell_type": "code",
   "execution_count": 28,
   "metadata": {},
   "outputs": [],
   "source": [
    "import sympy as sp\n",
    "from liab.k_leg_liab import k_leg_liab\n",
    "from liab.shapley_liab import shapley_liab\n",
    "from liab.random_system import get_random_system, rerand_system, get_rand_vec_b\n",
    "from liab.failure import BooleanFormulaFailureSet\n",
    "SEED = 42\n",
    "N = 4"
   ]
  },
  {
   "cell_type": "code",
   "execution_count": 4,
   "metadata": {},
   "outputs": [
    {
     "name": "stdout",
     "output_type": "stream",
     "text": [
      "System(cs=[ComponentOrEquation(I=['x_0'], O=x_2, f=x_0), ComponentOrEquation(I=['x_0', 'x_2'], O=x_3, f=x_2 & ~x_0)])\n",
      "System(cs=[ComponentOrEquation(I=['x_0'], O=x_2, f=False), ComponentOrEquation(I=['x_0', 'x_2'], O=x_3, f=x_0)])\n"
     ]
    }
   ],
   "source": [
    "S = get_random_system(N, seed=SEED)\n",
    "T = rerand_system(S, seed=SEED+1)\n",
    "print(S)\n",
    "print(T)\n"
   ]
  },
  {
   "cell_type": "code",
   "execution_count": 45,
   "metadata": {},
   "outputs": [
    {
     "name": "stdout",
     "output_type": "stream",
     "text": [
      "SCM(U={'x_0'}, V={'x_2', 'x_3'}, cs={'x_2': ComponentOrEquation(I=['x_0'], O=x_2, f=x_0), 'x_3': ComponentOrEquation(I=['x_0', 'x_2'], O=x_3, f=x_2 & ~x_0)}, state_order=['x_2', 'x_3'])\n",
      "SCM(U={'x_0'}, V={'x_2', 'x_3'}, cs={'x_2': ComponentOrEquation(I=['x_0'], O=x_2, f=False), 'x_3': ComponentOrEquation(I=['x_0', 'x_2'], O=x_3, f=x_0)}, state_order=['x_2', 'x_3'])\n"
     ]
    }
   ],
   "source": [
    "M = S.induced_scm()\n",
    "N = T.induced_scm()\n",
    "print(M)\n",
    "print(N)"
   ]
  },
  {
   "cell_type": "code",
   "execution_count": 48,
   "metadata": {},
   "outputs": [
    {
     "name": "stdout",
     "output_type": "stream",
     "text": [
      "{'x_2', 'x_3'}\n",
      "BooleanFormulaFailureSet(self.failure_formual=x_2)\n"
     ]
    }
   ],
   "source": [
    "# F = BooleanFormulaFailureSet.get_random([str(v) for v in M.V], seed=SEED+2)\n",
    "print(M.V)\n",
    "x_2 = sp.symbols('x_2')\n",
    "F = BooleanFormulaFailureSet(x_2)\n",
    "\n",
    "print(F)\n",
    "for i in range(100):\n",
    "    u_vals = get_rand_vec_b(len(M.U), seed=SEED+i)\n",
    "    u = dict(zip([str(u) for u in M.U], u_vals))\n",
    "    state_m, _ = M.get_state(u)\n",
    "    state_n, _ = N.get_state(u)\n",
    "    if F.contains(state_m) or not F.contains(state_n):\n",
    "        # print('Specification already failed or implementation not failed or both!')\n",
    "        continue\n",
    "    for k in range(1, len(T.cs)+1):\n",
    "        print(f'{k=}', k_leg_liab(T, S, u, F, k=k), end=' ** ')\n",
    "    \n",
    "#############\n",
    "## Current problem: generating a context that M[u] \\notin F but N[u] \\in F\n",
    "#############"
   ]
  }
 ],
 "metadata": {
  "kernelspec": {
   "display_name": ".venv",
   "language": "python",
   "name": "python3"
  },
  "language_info": {
   "codemirror_mode": {
    "name": "ipython",
    "version": 3
   },
   "file_extension": ".py",
   "mimetype": "text/x-python",
   "name": "python",
   "nbconvert_exporter": "python",
   "pygments_lexer": "ipython3",
   "version": "3.12.1"
  }
 },
 "nbformat": 4,
 "nbformat_minor": 2
}
