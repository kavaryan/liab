{
 "cells": [
  {
   "cell_type": "code",
   "execution_count": 1,
   "metadata": {},
   "outputs": [],
   "source": [
    "%reload_ext autoreload\n",
    "%autoreload 2\n",
    "import sys\n",
    "sys.path.append('../src')"
   ]
  },
  {
   "cell_type": "code",
   "execution_count": 30,
   "metadata": {},
   "outputs": [],
   "source": [
    "import sympy as sp\n",
    "from liab.k_leg_liab import k_leg_liab\n",
    "from liab.shapley_liab import shapley_liab\n",
    "from liab.random_system import get_random_system, rerand_system, all_combs_b\n",
    "from liab.failure import BooleanFormulaFailureSet\n",
    "SEED = 42\n",
    "NUM_VARS = 10"
   ]
  },
  {
   "cell_type": "code",
   "execution_count": 43,
   "metadata": {},
   "outputs": [
    {
     "name": "stdout",
     "output_type": "stream",
     "text": [
      "System(cs=[ComponentOrEquation(I=['x_0', 'x_1'], O=x_2, f=False), ComponentOrEquation(I=['x_0'], O=x_3, f=x_0), ComponentOrEquation(I=['x_0', 'x_1'], O=x_4, f=False), ComponentOrEquation(I=['x_0', 'x_1', 'x_2', 'x_3', 'x_4', 'x_5', 'x_7'], O=x_8, f=False), ComponentOrEquation(I=['x_0', 'x_2', 'x_4'], O=x_9, f=False), ComponentOrEquation(I=['x_1', 'x_2'], O=x_5, f=False), ComponentOrEquation(I=['x_2', 'x_4', 'x_5'], O=x_6, f=False), ComponentOrEquation(I=['x_4', 'x_5'], O=x_7, f=False)])\n",
      "System(cs=[ComponentOrEquation(I=['x_0', 'x_1'], O=x_2, f=x_0 & x_1), ComponentOrEquation(I=['x_0'], O=x_3, f=False), ComponentOrEquation(I=['x_0', 'x_1'], O=x_4, f=x_0 & x_1), ComponentOrEquation(I=['x_0', 'x_1', 'x_2', 'x_3', 'x_4', 'x_5', 'x_7'], O=x_8, f=x_0 & x_1 & x_2 & x_3 & x_4 & x_5 & x_7), ComponentOrEquation(I=['x_0', 'x_2', 'x_4'], O=x_9, f=x_0 & x_2 & x_4), ComponentOrEquation(I=['x_1', 'x_2'], O=x_5, f=x_1 & x_2), ComponentOrEquation(I=['x_2', 'x_4', 'x_5'], O=x_6, f=x_2 & x_4 & x_5), ComponentOrEquation(I=['x_4', 'x_5'], O=x_7, f=x_4 & x_5)])\n",
      "<class 'bool'> <class 'bool'>\n"
     ]
    }
   ],
   "source": [
    "S = get_random_system(NUM_VARS, bool, seed=SEED)\n",
    "T = rerand_system(S, seed=SEED+1)\n",
    "print(S)\n",
    "print(T)\n",
    "print(S.vars_type, T.vars_type)\n"
   ]
  },
  {
   "cell_type": "code",
   "execution_count": 45,
   "metadata": {},
   "outputs": [
    {
     "name": "stdout",
     "output_type": "stream",
     "text": [
      "SCM(U={'x_0', 'x_1'}, V={'x_9', 'x_5', 'x_2', 'x_7', 'x_3', 'x_8', 'x_4', 'x_6'}, cs={'x_2': ComponentOrEquation(I=['x_0', 'x_1'], O=x_2, f=False), 'x_3': ComponentOrEquation(I=['x_0'], O=x_3, f=x_0), 'x_4': ComponentOrEquation(I=['x_0', 'x_1'], O=x_4, f=False), 'x_8': ComponentOrEquation(I=['x_0', 'x_1', 'x_2', 'x_3', 'x_4', 'x_5', 'x_7'], O=x_8, f=False), 'x_9': ComponentOrEquation(I=['x_0', 'x_2', 'x_4'], O=x_9, f=False), 'x_5': ComponentOrEquation(I=['x_1', 'x_2'], O=x_5, f=False), 'x_6': ComponentOrEquation(I=['x_2', 'x_4', 'x_5'], O=x_6, f=False), 'x_7': ComponentOrEquation(I=['x_4', 'x_5'], O=x_7, f=False)}, state_order=['x_3', 'x_2', 'x_4', 'x_5', 'x_9', 'x_6', 'x_7', 'x_8'])\n",
      "SCM(U={'x_0', 'x_1'}, V={'x_9', 'x_5', 'x_2', 'x_7', 'x_3', 'x_8', 'x_4', 'x_6'}, cs={'x_2': ComponentOrEquation(I=['x_0', 'x_1'], O=x_2, f=x_0 & x_1), 'x_3': ComponentOrEquation(I=['x_0'], O=x_3, f=False), 'x_4': ComponentOrEquation(I=['x_0', 'x_1'], O=x_4, f=x_0 & x_1), 'x_8': ComponentOrEquation(I=['x_0', 'x_1', 'x_2', 'x_3', 'x_4', 'x_5', 'x_7'], O=x_8, f=x_0 & x_1 & x_2 & x_3 & x_4 & x_5 & x_7), 'x_9': ComponentOrEquation(I=['x_0', 'x_2', 'x_4'], O=x_9, f=x_0 & x_2 & x_4), 'x_5': ComponentOrEquation(I=['x_1', 'x_2'], O=x_5, f=x_1 & x_2), 'x_6': ComponentOrEquation(I=['x_2', 'x_4', 'x_5'], O=x_6, f=x_2 & x_4 & x_5), 'x_7': ComponentOrEquation(I=['x_4', 'x_5'], O=x_7, f=x_4 & x_5)}, state_order=['x_3', 'x_2', 'x_4', 'x_5', 'x_9', 'x_6', 'x_7', 'x_8'])\n",
      "<class 'bool'> <class 'bool'>\n"
     ]
    }
   ],
   "source": [
    "M = S.induced_scm()\n",
    "N = T.induced_scm()\n",
    "print(M)\n",
    "print(N)\n",
    "print(M.vars_type, N.vars_type)"
   ]
  },
  {
   "cell_type": "code",
   "execution_count": 74,
   "metadata": {},
   "outputs": [
    {
     "name": "stdout",
     "output_type": "stream",
     "text": [
      "2\n",
      "{'x_2': 1.0, 'x_3': 0.0, 'x_4': 0.0, 'x_8': 0.0, 'x_9': 0.0, 'x_5': 0.0, 'x_6': 0.0, 'x_7': 0.0}\n",
      "{'x_2': 1.0, 'x_3': 0.0, 'x_4': 0.0, 'x_8': 0.0, 'x_9': 0.0, 'x_5': 0.0, 'x_6': 0.0, 'x_7': 0.0}\n",
      "{'x_2': 1.0, 'x_3': 0.0, 'x_4': 0.0, 'x_8': 0.0, 'x_9': 0.0, 'x_5': 0.0, 'x_6': 0.0, 'x_7': 0.0}\n",
      "{'x_2': 1.0, 'x_3': 0.0, 'x_4': 0.0, 'x_8': 0.0, 'x_9': 0.0, 'x_5': 0.0, 'x_6': 0.0, 'x_7': 0.0}\n",
      "\n",
      "2\n",
      "{'x_2': 1.0, 'x_3': 0.0, 'x_4': 0.0, 'x_8': 0.0, 'x_9': 0.0, 'x_5': 0.0, 'x_6': 0.0, 'x_7': 0.0}\n"
     ]
    },
    {
     "ename": "KeyboardInterrupt",
     "evalue": "",
     "output_type": "error",
     "traceback": [
      "\u001b[1;31m---------------------------------------------------------------------------\u001b[0m",
      "\u001b[1;31mKeyboardInterrupt\u001b[0m                         Traceback (most recent call last)",
      "Cell \u001b[1;32mIn[74], line 24\u001b[0m\n\u001b[0;32m     22\u001b[0m         \u001b[38;5;28;01mfor\u001b[39;00m k \u001b[38;5;129;01min\u001b[39;00m \u001b[38;5;28mrange\u001b[39m(\u001b[38;5;241m1\u001b[39m, \u001b[38;5;241m3\u001b[39m):\n\u001b[0;32m     23\u001b[0m             \u001b[38;5;28mprint\u001b[39m(k_leg_liab(T, S, u, F, k\u001b[38;5;241m=\u001b[39mk))\n\u001b[1;32m---> 24\u001b[0m             \u001b[38;5;28mprint\u001b[39m(\u001b[43mshapley_liab\u001b[49m\u001b[43m(\u001b[49m\u001b[43mT\u001b[49m\u001b[43m,\u001b[49m\u001b[43m \u001b[49m\u001b[43mS\u001b[49m\u001b[43m,\u001b[49m\u001b[43m \u001b[49m\u001b[43mu\u001b[49m\u001b[43m,\u001b[49m\u001b[43m \u001b[49m\u001b[43mF\u001b[49m\u001b[43m,\u001b[49m\u001b[43m \u001b[49m\u001b[43mk\u001b[49m\u001b[38;5;241;43m=\u001b[39;49m\u001b[43mk\u001b[49m\u001b[43m)\u001b[49m)\n\u001b[0;32m     25\u001b[0m         \u001b[38;5;28mprint\u001b[39m()\n\u001b[0;32m     27\u001b[0m \u001b[38;5;66;03m#############\u001b[39;00m\n\u001b[0;32m     28\u001b[0m \u001b[38;5;66;03m## Current problem: generating a context that M[u] \\notin F but N[u] \\in F\u001b[39;00m\n\u001b[0;32m     29\u001b[0m \u001b[38;5;66;03m#############\u001b[39;00m\n",
      "File \u001b[1;32mc:\\Users\\karya\\Downloads\\phd\\liab\\examples\\../src\\liab\\shapley_liab.py:37\u001b[0m, in \u001b[0;36mshapley_liab\u001b[1;34m(T, S, u, F, k)\u001b[0m\n\u001b[0;32m     35\u001b[0m B \u001b[38;5;241m=\u001b[39m []\n\u001b[0;32m     36\u001b[0m \u001b[38;5;28;01mfor\u001b[39;00m K \u001b[38;5;129;01min\u001b[39;00m subsets_upto(T\u001b[38;5;241m.\u001b[39mcs, \u001b[38;5;28mlen\u001b[39m(T\u001b[38;5;241m.\u001b[39mcs)\u001b[38;5;241m-\u001b[39m\u001b[38;5;241m1\u001b[39m):\n\u001b[1;32m---> 37\u001b[0m     \u001b[38;5;28;01mif\u001b[39;00m \u001b[43mbf\u001b[49m\u001b[43m(\u001b[49m\u001b[43mT\u001b[49m\u001b[43m,\u001b[49m\u001b[43m \u001b[49m\u001b[43mS\u001b[49m\u001b[43m,\u001b[49m\u001b[43m \u001b[49m\u001b[43m[\u001b[49m\u001b[43mX\u001b[49m\u001b[43m]\u001b[49m\u001b[38;5;241;43m+\u001b[39;49m\u001b[38;5;28;43mlist\u001b[39;49m\u001b[43m(\u001b[49m\u001b[43mK\u001b[49m\u001b[43m)\u001b[49m\u001b[43m,\u001b[49m\u001b[43m \u001b[49m\u001b[43mu\u001b[49m\u001b[43m,\u001b[49m\u001b[43m \u001b[49m\u001b[43mF\u001b[49m\u001b[43m,\u001b[49m\u001b[43m \u001b[49m\u001b[43mbf_dict\u001b[49m\u001b[43m)\u001b[49m:\n\u001b[0;32m     38\u001b[0m         B\u001b[38;5;241m.\u001b[39mappend(K)\n\u001b[0;32m     40\u001b[0m \u001b[38;5;28;01mif\u001b[39;00m \u001b[38;5;28mlen\u001b[39m(B) \u001b[38;5;241m==\u001b[39m \u001b[38;5;241m0\u001b[39m:\n",
      "File \u001b[1;32mc:\\Users\\karya\\Downloads\\phd\\liab\\examples\\../src\\liab\\bf.py:45\u001b[0m, in \u001b[0;36mbf\u001b[1;34m(T, S, X, u, F, bf_dict)\u001b[0m\n\u001b[0;32m     42\u001b[0m     bf_dict_ \u001b[38;5;241m=\u001b[39m bf_dict\n\u001b[0;32m     44\u001b[0m \u001b[38;5;66;03m# BF1 axiom (in the paper)\u001b[39;00m\n\u001b[1;32m---> 45\u001b[0m t_dict, _ \u001b[38;5;241m=\u001b[39m \u001b[43mN\u001b[49m\u001b[38;5;241;43m.\u001b[39;49m\u001b[43mget_state\u001b[49m\u001b[43m(\u001b[49m\u001b[43mu\u001b[49m\u001b[43m)\u001b[49m\n\u001b[0;32m     46\u001b[0m \u001b[38;5;28;01mif\u001b[39;00m \u001b[38;5;129;01mnot\u001b[39;00m F\u001b[38;5;241m.\u001b[39mcontains(t_dict):\n\u001b[0;32m     47\u001b[0m     \u001b[38;5;28;01mreturn\u001b[39;00m \u001b[38;5;28;01mFalse\u001b[39;00m\n",
      "File \u001b[1;32mc:\\Users\\karya\\Downloads\\phd\\liab\\examples\\../src\\liab\\scm.py:115\u001b[0m, in \u001b[0;36mSCM.get_state\u001b[1;34m(self, _context)\u001b[0m\n\u001b[0;32m    113\u001b[0m     \u001b[38;5;28;01mreturn\u001b[39;00m \u001b[38;5;28mself\u001b[39m\u001b[38;5;241m.\u001b[39mget_state_f(_context)\n\u001b[0;32m    114\u001b[0m \u001b[38;5;28;01melse\u001b[39;00m:\n\u001b[1;32m--> 115\u001b[0m     \u001b[38;5;28;01mreturn\u001b[39;00m \u001b[38;5;28;43mself\u001b[39;49m\u001b[38;5;241;43m.\u001b[39;49m\u001b[43mget_state_b\u001b[49m\u001b[43m(\u001b[49m\u001b[43m_context\u001b[49m\u001b[43m)\u001b[49m\n",
      "File \u001b[1;32mc:\\Users\\karya\\Downloads\\phd\\liab\\examples\\../src\\liab\\scm.py:155\u001b[0m, in \u001b[0;36mSCM.get_state_b\u001b[1;34m(self, _context)\u001b[0m\n\u001b[0;32m    153\u001b[0m     \u001b[38;5;28mlocals\u001b[39m()[_u] \u001b[38;5;241m=\u001b[39m sympy\u001b[38;5;241m.\u001b[39msymbols(_u)\n\u001b[0;32m    154\u001b[0m \u001b[38;5;28;01mfor\u001b[39;00m _v \u001b[38;5;129;01min\u001b[39;00m \u001b[38;5;28mself\u001b[39m\u001b[38;5;241m.\u001b[39mstate_order:\n\u001b[1;32m--> 155\u001b[0m     _v_sym \u001b[38;5;241m=\u001b[39m \u001b[38;5;28;43meval\u001b[39;49m\u001b[43m(\u001b[49m\u001b[38;5;28;43mself\u001b[39;49m\u001b[38;5;241;43m.\u001b[39;49m\u001b[43mcs_dict\u001b[49m\u001b[43m[\u001b[49m\u001b[43m_v\u001b[49m\u001b[43m]\u001b[49m\u001b[38;5;241;43m.\u001b[39;49m\u001b[43mf\u001b[49m\u001b[43m)\u001b[49m\n\u001b[0;32m    156\u001b[0m     \u001b[38;5;28mlocals\u001b[39m()[_v] \u001b[38;5;241m=\u001b[39m _v_sym\n\u001b[0;32m    157\u001b[0m     \u001b[38;5;28;01mif\u001b[39;00m \u001b[38;5;28misinstance\u001b[39m(_v_sym, sympy\u001b[38;5;241m.\u001b[39mBasic):\n",
      "File \u001b[1;32m<string>:1\u001b[0m\n",
      "File \u001b[1;32mc:\\Users\\karya\\Downloads\\phd\\liab\\.venv\\Lib\\site-packages\\sympy\\core\\decorators.py:236\u001b[0m, in \u001b[0;36m_SympifyWrapper.make_wrapped.<locals>._func\u001b[1;34m(self, other)\u001b[0m\n\u001b[0;32m    234\u001b[0m \u001b[38;5;28;01mif\u001b[39;00m \u001b[38;5;129;01mnot\u001b[39;00m \u001b[38;5;28misinstance\u001b[39m(other, expectedcls):\n\u001b[0;32m    235\u001b[0m     \u001b[38;5;28;01mreturn\u001b[39;00m retval\n\u001b[1;32m--> 236\u001b[0m \u001b[38;5;28;01mreturn\u001b[39;00m \u001b[43mfunc\u001b[49m\u001b[43m(\u001b[49m\u001b[38;5;28;43mself\u001b[39;49m\u001b[43m,\u001b[49m\u001b[43m \u001b[49m\u001b[43mother\u001b[49m\u001b[43m)\u001b[49m\n",
      "File \u001b[1;32mc:\\Users\\karya\\Downloads\\phd\\liab\\.venv\\Lib\\site-packages\\sympy\\logic\\boolalg.py:74\u001b[0m, in \u001b[0;36mBoolean.__and__\u001b[1;34m(self, other)\u001b[0m\n\u001b[0;32m     72\u001b[0m \u001b[38;5;129m@sympify_return\u001b[39m([(\u001b[38;5;124m'\u001b[39m\u001b[38;5;124mother\u001b[39m\u001b[38;5;124m'\u001b[39m, \u001b[38;5;124m'\u001b[39m\u001b[38;5;124mBoolean\u001b[39m\u001b[38;5;124m'\u001b[39m)], \u001b[38;5;28mNotImplemented\u001b[39m)\n\u001b[0;32m     73\u001b[0m \u001b[38;5;28;01mdef\u001b[39;00m \u001b[38;5;21m__and__\u001b[39m(\u001b[38;5;28mself\u001b[39m, other):\n\u001b[1;32m---> 74\u001b[0m     \u001b[38;5;28;01mreturn\u001b[39;00m \u001b[43mAnd\u001b[49m\u001b[43m(\u001b[49m\u001b[38;5;28;43mself\u001b[39;49m\u001b[43m,\u001b[49m\u001b[43m \u001b[49m\u001b[43mother\u001b[49m\u001b[43m)\u001b[49m\n",
      "File \u001b[1;32mc:\\Users\\karya\\Downloads\\phd\\liab\\.venv\\Lib\\site-packages\\sympy\\core\\operations.py:513\u001b[0m, in \u001b[0;36mLatticeOp.__new__\u001b[1;34m(cls, *args, **options)\u001b[0m\n\u001b[0;32m    506\u001b[0m args \u001b[38;5;241m=\u001b[39m (_sympify_(arg) \u001b[38;5;28;01mfor\u001b[39;00m arg \u001b[38;5;129;01min\u001b[39;00m args)\n\u001b[0;32m    508\u001b[0m \u001b[38;5;28;01mtry\u001b[39;00m:\n\u001b[0;32m    509\u001b[0m     \u001b[38;5;66;03m# /!\\ args is a generator and _new_args_filter\u001b[39;00m\n\u001b[0;32m    510\u001b[0m     \u001b[38;5;66;03m# must be careful to handle as such; this\u001b[39;00m\n\u001b[0;32m    511\u001b[0m     \u001b[38;5;66;03m# is done so short-circuiting can be done\u001b[39;00m\n\u001b[0;32m    512\u001b[0m     \u001b[38;5;66;03m# without having to sympify all values\u001b[39;00m\n\u001b[1;32m--> 513\u001b[0m     _args \u001b[38;5;241m=\u001b[39m \u001b[38;5;28mfrozenset\u001b[39m(\u001b[38;5;28;43mcls\u001b[39;49m\u001b[38;5;241;43m.\u001b[39;49m\u001b[43m_new_args_filter\u001b[49m\u001b[43m(\u001b[49m\u001b[43margs\u001b[49m\u001b[43m)\u001b[49m)\n\u001b[0;32m    514\u001b[0m \u001b[38;5;28;01mexcept\u001b[39;00m ShortCircuit:\n\u001b[0;32m    515\u001b[0m     \u001b[38;5;28;01mreturn\u001b[39;00m sympify(\u001b[38;5;28mcls\u001b[39m\u001b[38;5;241m.\u001b[39mzero)\n",
      "File \u001b[1;32mc:\\Users\\karya\\Downloads\\phd\\liab\\.venv\\Lib\\site-packages\\sympy\\logic\\boolalg.py:606\u001b[0m, in \u001b[0;36mAnd._new_args_filter\u001b[1;34m(cls, args)\u001b[0m\n\u001b[0;32m    604\u001b[0m \u001b[38;5;129m@classmethod\u001b[39m\n\u001b[0;32m    605\u001b[0m \u001b[38;5;28;01mdef\u001b[39;00m \u001b[38;5;21m_new_args_filter\u001b[39m(\u001b[38;5;28mcls\u001b[39m, args):\n\u001b[1;32m--> 606\u001b[0m     args \u001b[38;5;241m=\u001b[39m \u001b[43mBooleanFunction\u001b[49m\u001b[38;5;241;43m.\u001b[39;49m\u001b[43mbinary_check_and_simplify\u001b[49m\u001b[43m(\u001b[49m\u001b[38;5;241;43m*\u001b[39;49m\u001b[43margs\u001b[49m\u001b[43m)\u001b[49m\n\u001b[0;32m    607\u001b[0m     args \u001b[38;5;241m=\u001b[39m LatticeOp\u001b[38;5;241m.\u001b[39m_new_args_filter(args, And)\n\u001b[0;32m    608\u001b[0m     newargs \u001b[38;5;241m=\u001b[39m []\n",
      "File \u001b[1;32mc:\\Users\\karya\\Downloads\\phd\\liab\\.venv\\Lib\\site-packages\\sympy\\logic\\boolalg.py:496\u001b[0m, in \u001b[0;36mBooleanFunction.binary_check_and_simplify\u001b[1;34m(self, *args)\u001b[0m\n\u001b[0;32m    494\u001b[0m args \u001b[38;5;241m=\u001b[39m [as_Boolean(i) \u001b[38;5;28;01mfor\u001b[39;00m i \u001b[38;5;129;01min\u001b[39;00m args]\n\u001b[0;32m    495\u001b[0m bin_syms \u001b[38;5;241m=\u001b[39m \u001b[38;5;28mset\u001b[39m()\u001b[38;5;241m.\u001b[39munion(\u001b[38;5;241m*\u001b[39m[i\u001b[38;5;241m.\u001b[39mbinary_symbols \u001b[38;5;28;01mfor\u001b[39;00m i \u001b[38;5;129;01min\u001b[39;00m args])\n\u001b[1;32m--> 496\u001b[0m rel \u001b[38;5;241m=\u001b[39m \u001b[38;5;28mset\u001b[39m()\u001b[38;5;241m.\u001b[39munion(\u001b[38;5;241m*\u001b[39m[\u001b[43mi\u001b[49m\u001b[38;5;241;43m.\u001b[39;49m\u001b[43matoms\u001b[49m\u001b[43m(\u001b[49m\u001b[43mRelational\u001b[49m\u001b[43m)\u001b[49m \u001b[38;5;28;01mfor\u001b[39;00m i \u001b[38;5;129;01min\u001b[39;00m args])\n\u001b[0;32m    497\u001b[0m reps \u001b[38;5;241m=\u001b[39m {}\n\u001b[0;32m    498\u001b[0m \u001b[38;5;28;01mfor\u001b[39;00m x \u001b[38;5;129;01min\u001b[39;00m bin_syms:\n",
      "File \u001b[1;32mc:\\Users\\karya\\Downloads\\phd\\liab\\.venv\\Lib\\site-packages\\sympy\\core\\basic.py:556\u001b[0m, in \u001b[0;36mBasic.atoms\u001b[1;34m(self, *types)\u001b[0m\n\u001b[0;32m    486\u001b[0m \u001b[38;5;250m\u001b[39m\u001b[38;5;124;03m\"\"\"Returns the atoms that form the current object.\u001b[39;00m\n\u001b[0;32m    487\u001b[0m \n\u001b[0;32m    488\u001b[0m \u001b[38;5;124;03mBy default, only objects that are truly atomic and cannot\u001b[39;00m\n\u001b[1;32m   (...)\u001b[0m\n\u001b[0;32m    552\u001b[0m \n\u001b[0;32m    553\u001b[0m \u001b[38;5;124;03m\"\"\"\u001b[39;00m\n\u001b[0;32m    554\u001b[0m \u001b[38;5;28;01mif\u001b[39;00m types:\n\u001b[0;32m    555\u001b[0m     types \u001b[38;5;241m=\u001b[39m \u001b[38;5;28mtuple\u001b[39m(\n\u001b[1;32m--> 556\u001b[0m         [t \u001b[38;5;28;01mif\u001b[39;00m \u001b[38;5;28misinstance\u001b[39m(t, \u001b[38;5;28mtype\u001b[39m) \u001b[38;5;28;01melse\u001b[39;00m \u001b[38;5;28mtype\u001b[39m(t) \u001b[38;5;28;01mfor\u001b[39;00m t \u001b[38;5;129;01min\u001b[39;00m types])\n\u001b[0;32m    557\u001b[0m nodes \u001b[38;5;241m=\u001b[39m _preorder_traversal(\u001b[38;5;28mself\u001b[39m)\n\u001b[0;32m    558\u001b[0m \u001b[38;5;28;01mif\u001b[39;00m types:\n",
      "\u001b[1;31mKeyboardInterrupt\u001b[0m: "
     ]
    }
   ],
   "source": [
    "# F = BooleanFormulaFailureSet.get_random([str(v) for v in M.V], seed=SEED+2)\n",
    "from liab.random_system import get_rand_prop\n",
    "\n",
    "diffs = []\n",
    "for i in range(1000):\n",
    "    S = get_random_system(NUM_VARS, bool, seed=SEED)\n",
    "    T = rerand_system(S, seed=SEED+1)\n",
    "    M = S.induced_scm()\n",
    "    N = T.induced_scm()\n",
    "    vars = list(M.U) + list(M.V)\n",
    "    for var in vars:\n",
    "        locals()[var] = sp.symbols(var)\n",
    "    F = BooleanFormulaFailureSet(eval(get_rand_prop(vars, num_syms=1)))\n",
    "\n",
    "    for u_vals in all_combs_b(len(M.U)):\n",
    "        u = dict(zip([str(u) for u in M.U], u_vals))\n",
    "        state_m, _ = M.get_state(u)\n",
    "        state_n, _ = N.get_state(u)\n",
    "        if F.contains(state_m) or not F.contains(state_n):\n",
    "            # print('Specification already failed or implementation not failed or both!')\n",
    "            continue\n",
    "        print(k)\n",
    "        for k in range(1, 3):\n",
    "            k_leg = k_leg_liab(T, S, u, F, k=k)\n",
    "            shapley = shapley_liab(T, S, u, F, k=k)\n",
    "            for var in k_leg:\n",
    "                if var in shapley:\n",
    "                    diffs.append(k_leg[var] - shapley[var])\n",
    "                else:\n",
    "                    print(f'Warning: {var} not found in Shapley liability')\n",
    "        print()\n",
    "    \n",
    "#############\n",
    "## Current problem: generating a context that M[u] \\notin F but N[u] \\in F\n",
    "#############"
   ]
  }
 ],
 "metadata": {
  "kernelspec": {
   "display_name": ".venv",
   "language": "python",
   "name": "python3"
  },
  "language_info": {
   "codemirror_mode": {
    "name": "ipython",
    "version": 3
   },
   "file_extension": ".py",
   "mimetype": "text/x-python",
   "name": "python",
   "nbconvert_exporter": "python",
   "pygments_lexer": "ipython3",
   "version": "3.12.1"
  }
 },
 "nbformat": 4,
 "nbformat_minor": 2
}
