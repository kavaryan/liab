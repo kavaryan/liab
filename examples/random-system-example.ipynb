{
 "cells": [
  {
   "cell_type": "code",
   "execution_count": 2,
   "metadata": {},
   "outputs": [],
   "source": [
    "import sys\n",
    "sys.path.append('../src')"
   ]
  },
  {
   "cell_type": "code",
   "execution_count": 4,
   "metadata": {},
   "outputs": [],
   "source": [
    "from liab.k_leg_liab import k_leg_liab\n",
    "from liab.shapley_liab import shapley_liab\n",
    "from liab.random_system import get_random_system, rerand_system, get_rand_vector_b\n",
    "SEED = 42\n",
    "N = 4"
   ]
  },
  {
   "cell_type": "code",
   "execution_count": 6,
   "metadata": {},
   "outputs": [
    {
     "name": "stdout",
     "output_type": "stream",
     "text": [
      "System(cs=[ComponentOrEquation(I=['x_0'], O=x_2, f=x_0), ComponentOrEquation(I=['x_0', 'x_2'], O=x_3, f=x_2 & ~x_0)])\n",
      "System(cs=[ComponentOrEquation(I=['x_0'], O=x_2, f=x_0), ComponentOrEquation(I=['x_0', 'x_2'], O=x_3, f=x_2 & ~x_0)])\n"
     ]
    }
   ],
   "source": [
    "S = get_random_system(N, seed=SEED)\n",
    "T = rerand_system(S, seed=SEED+1)\n",
    "print(S)\n"
   ]
  },
  {
   "cell_type": "code",
   "execution_count": null,
   "metadata": {},
   "outputs": [],
   "source": [
    "M = S.induced_scm()\n",
    "N = T.induced_scm()\n",
    "print(M)\n",
    "print(N)"
   ]
  },
  {
   "cell_type": "code",
   "execution_count": null,
   "metadata": {},
   "outputs": [],
   "source": [
    "for i in range(M):\n",
    "    context = get_rand_vector_b(len(M.U))\n",
    "    context_dict = dict(zip(M.U, context))\n",
    "    state = M.get_state()\n",
    "    k_leg_liab(T, S, u, F, k=K)"
   ]
  }
 ],
 "metadata": {
  "kernelspec": {
   "display_name": ".venv",
   "language": "python",
   "name": "python3"
  },
  "language_info": {
   "codemirror_mode": {
    "name": "ipython",
    "version": 3
   },
   "file_extension": ".py",
   "mimetype": "text/x-python",
   "name": "python",
   "nbconvert_exporter": "python",
   "pygments_lexer": "ipython3",
   "version": "3.12.1"
  }
 },
 "nbformat": 4,
 "nbformat_minor": 2
}
